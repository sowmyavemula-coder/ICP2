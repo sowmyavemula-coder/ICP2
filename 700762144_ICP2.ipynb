{
  "nbformat": 4,
  "nbformat_minor": 0,
  "metadata": {
    "colab": {
      "provenance": []
    },
    "kernelspec": {
      "name": "python3",
      "display_name": "Python 3"
    },
    "language_info": {
      "name": "python"
    }
  },
  "cells": [
    {
      "cell_type": "markdown",
      "source": [
        "1. Create a class Employee and then do the following:\n",
        "\n",
        "* Create a data member to count the number of Employees\n",
        "* Create a constructor to initialize name, family, salary, department\n",
        "* Create a function to average salary\n",
        "* Create a Fulltime Employee class and it should inherit the properties of Employee class\n",
        "* Create the instances of Fulltime Employee class and Employee class and call their member functions.\n"
      ],
      "metadata": {
        "id": "64kVQKV3KLNz"
      }
    },
    {
      "cell_type": "code",
      "execution_count": 1,
      "metadata": {
        "colab": {
          "base_uri": "https://localhost:8080/"
        },
        "id": "yIh8aPIAKGHp",
        "outputId": "19510895-71dd-4069-f7e7-13211d88b956"
      },
      "outputs": [
        {
          "output_type": "stream",
          "name": "stdout",
          "text": [
            "Average Salary for Employees: 47500.0\n",
            "Average Salary for Fulltime Employees: 37500.0\n"
          ]
        }
      ],
      "source": [
        "class Employee:\n",
        "    employee_count = 0  # Data member to count the number of Employees\n",
        "\n",
        "    def __init__(self, name, family, salary, department):\n",
        "        self.name = name\n",
        "        self.family = family\n",
        "        self.salary = salary\n",
        "        self.department = department\n",
        "        Employee.employee_count += 1\n",
        "\n",
        "    def average_salary(self, total_salary):\n",
        "        return total_salary / Employee.employee_count\n",
        "\n",
        "class FulltimeEmployee(Employee):\n",
        "    # Inheriting properties from the Employee class\n",
        "    pass\n",
        "\n",
        "# Creating instances of Employee class\n",
        "employee1 = Employee(\"Nava Sai\", \"Gangireddy\", 100000, \"HR\")\n",
        "employee2 = Employee(\"Reddy\", \"Gangireddy\", 90000, \"IT\")\n",
        "\n",
        "# Creating instances of FulltimeEmployee class\n",
        "fulltime_employee1 = FulltimeEmployee(\"Kumar Reddy\", \"Gangireddy\", 80000, \"Finance\")\n",
        "fulltime_employee2 = FulltimeEmployee(\"Nava\", \"Gangireddy\", 70000, \"Marketing\")\n",
        "\n",
        "# Calling member functions\n",
        "total_salary_employees = employee1.salary + employee2.salary\n",
        "average_salary_employees = employee1.average_salary(total_salary_employees)\n",
        "\n",
        "total_salary_fulltime_employees = fulltime_employee1.salary + fulltime_employee2.salary\n",
        "average_salary_fulltime_employees = fulltime_employee1.average_salary(total_salary_fulltime_employees)\n",
        "\n",
        "# Displaying results\n",
        "print(\"Average Salary for Employees:\", average_salary_employees)\n",
        "print(\"Average Salary for Fulltime Employees:\", average_salary_fulltime_employees)\n"
      ]
    },
    {
      "cell_type": "markdown",
      "source": [
        "Using NumPy:\n",
        "\n",
        "* create random vector of size 20 having only float in the range 1-20.\n",
        "* Then reshape the array to 4 by 5\n",
        "* Then replace the max in each row by 0 (axis=1)\n",
        "\n",
        "Note: (you can NOT implement it via for loop)"
      ],
      "metadata": {
        "id": "dFUTBSUEM5DZ"
      }
    },
    {
      "cell_type": "code",
      "source": [
        "# Import the NumPy library and alias it as 'np' for brevity and convention.\n",
        "import numpy as np\n",
        "\n",
        "# Create a random vector of size 20 with floats in the range 1-20\n",
        "random_vector = np.random.uniform(1, 20, 20)\n",
        "\n",
        "print(\"Original Random Vector:\\n\", random_vector)"
      ],
      "metadata": {
        "colab": {
          "base_uri": "https://localhost:8080/"
        },
        "id": "H1wR8tyhNGgU",
        "outputId": "08a3ef13-16ee-4d64-b9c7-93656bec5c2f"
      },
      "execution_count": 2,
      "outputs": [
        {
          "output_type": "stream",
          "name": "stdout",
          "text": [
            "Original Random Vector:\n",
            " [15.50277551 18.50023186  3.954421   17.46235376 17.76126445 19.84431091\n",
            "  6.4421753  13.3600551  18.56509297  4.88975197 19.00226087 16.17633014\n",
            "  1.35350271 13.89463872  1.41986935 10.25100543 17.47375942  2.04498582\n",
            "  2.58309421  4.03564164]\n"
          ]
        }
      ]
    },
    {
      "cell_type": "code",
      "source": [
        "# Reshape the array to 4 by 5 (4 rows and 5 columns)\n",
        "reshaped_array = random_vector.reshape(4, 5)\n",
        "\n",
        "print(reshaped_array)"
      ],
      "metadata": {
        "colab": {
          "base_uri": "https://localhost:8080/"
        },
        "id": "16ZJuYvcNcTS",
        "outputId": "61b3bb29-b64b-4aa4-d770-56614ee0828b"
      },
      "execution_count": 3,
      "outputs": [
        {
          "output_type": "stream",
          "name": "stdout",
          "text": [
            "[[15.50277551 18.50023186  3.954421   17.46235376 17.76126445]\n",
            " [19.84431091  6.4421753  13.3600551  18.56509297  4.88975197]\n",
            " [19.00226087 16.17633014  1.35350271 13.89463872  1.41986935]\n",
            " [10.25100543 17.47375942  2.04498582  2.58309421  4.03564164]]\n"
          ]
        }
      ]
    },
    {
      "cell_type": "code",
      "source": [
        "# Replace the max in each row by 0 (axis=1)\n",
        "reshaped_array[np.arange(4), reshaped_array.argmax(axis=1)] = 0\n",
        "\n",
        "print(\"Reshaped Array:\\n\", reshaped_array)"
      ],
      "metadata": {
        "colab": {
          "base_uri": "https://localhost:8080/"
        },
        "id": "PWYPSVK5NYeA",
        "outputId": "8c0659e8-efc7-4e8a-f396-82b622de0736"
      },
      "execution_count": 4,
      "outputs": [
        {
          "output_type": "stream",
          "name": "stdout",
          "text": [
            "Reshaped Array:\n",
            " [[15.50277551  0.          3.954421   17.46235376 17.76126445]\n",
            " [ 0.          6.4421753  13.3600551  18.56509297  4.88975197]\n",
            " [ 0.         16.17633014  1.35350271 13.89463872  1.41986935]\n",
            " [10.25100543  0.          2.04498582  2.58309421  4.03564164]]\n"
          ]
        }
      ]
    }
  ]
}