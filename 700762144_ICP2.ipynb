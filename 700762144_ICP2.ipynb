{
  "nbformat": 4,
  "nbformat_minor": 0,
  "metadata": {
    "colab": {
      "provenance": []
    },
    "kernelspec": {
      "name": "python3",
      "display_name": "Python 3"
    },
    "language_info": {
      "name": "python"
    }
  },
  "cells": [
    {
      "cell_type": "markdown",
      "source": [
        "1. Create a class Employee and then do the following:\n",
        "\n",
        "* Create a data member to count the number of Employees\n",
        "* Create a constructor to initialize name, family, salary, department\n",
        "* Create a function to average salary\n",
        "* Create a Fulltime Employee class and it should inherit the properties of Employee class\n",
        "* Create the instances of Fulltime Employee class and Employee class and call their member functions.\n"
      ],
      "metadata": {
        "id": "64kVQKV3KLNz"
      }
    },
    {
      "cell_type": "code",
      "execution_count": 5,
      "metadata": {
        "colab": {
          "base_uri": "https://localhost:8080/"
        },
        "id": "yIh8aPIAKGHp",
        "outputId": "62320ec8-a2f3-4448-acb6-1b97380a3cf0"
      },
      "outputs": [
        {
          "output_type": "stream",
          "name": "stdout",
          "text": [
            "Average Salary for Employees: 50000.0\n",
            "Average Salary for Fulltime Employees: 25000.0\n"
          ]
        }
      ],
      "source": [
        "class Employee:\n",
        "    employee_count = 0  # Data member to count the number of Employees\n",
        "\n",
        "    def __init__(self, name, family, salary, department):\n",
        "        self.name = name\n",
        "        self.family = family\n",
        "        self.salary = salary\n",
        "        self.department = department\n",
        "        Employee.employee_count += 1\n",
        "\n",
        "    def average_salary(self, total_salary):\n",
        "        return total_salary / Employee.employee_count\n",
        "\n",
        "class FulltimeEmployee(Employee):\n",
        "    # Inheriting properties from the Employee class\n",
        "    pass\n",
        "\n",
        "# Creating instances of Employee class\n",
        "employee1 = Employee(\"Sowmya\", \"Vemula\", 120000, \"Development\")\n",
        "employee2 = Employee(\"Sahithi\", \"Vemula\", 80000, \"IT\")\n",
        "\n",
        "# Creating instances of FulltimeEmployee class\n",
        "fulltime_employee1 = FulltimeEmployee(\"Suresh\", \"Kumar\", 40000, \"Security\")\n",
        "fulltime_employee2 = FulltimeEmployee(\"Sudha\", \"Vani\", 60000, \"Marketing\")\n",
        "\n",
        "# Calling member functions\n",
        "total_salary_employees = employee1.salary + employee2.salary\n",
        "average_salary_employees = employee1.average_salary(total_salary_employees)\n",
        "\n",
        "total_salary_fulltime_employees = fulltime_employee1.salary + fulltime_employee2.salary\n",
        "average_salary_fulltime_employees = fulltime_employee1.average_salary(total_salary_fulltime_employees)\n",
        "\n",
        "# Displaying results\n",
        "print(\"Average Salary for Employees:\", average_salary_employees)\n",
        "print(\"Average Salary for Fulltime Employees:\", average_salary_fulltime_employees)\n"
      ]
    },
    {
      "cell_type": "markdown",
      "source": [
        "Using NumPy:\n",
        "\n",
        "* create random vector of size 20 having only float in the range 1-20.\n",
        "* Then reshape the array to 4 by 5\n",
        "* Then replace the max in each row by 0 (axis=1)\n",
        "\n",
        "Note: (you can NOT implement it via for loop)"
      ],
      "metadata": {
        "id": "dFUTBSUEM5DZ"
      }
    },
    {
      "cell_type": "code",
      "source": [
        "# Import the NumPy library and alias it as 'np' for brevity and convention.\n",
        "import numpy as np\n",
        "\n",
        "# Create a random vector of size 20 with floats in the range 1-20\n",
        "random_vector = np.random.uniform(1, 20, 20)\n",
        "\n",
        "print(\"Original Random Vector:\\n\", random_vector)"
      ],
      "metadata": {
        "colab": {
          "base_uri": "https://localhost:8080/"
        },
        "id": "H1wR8tyhNGgU",
        "outputId": "d5683eee-9097-439c-8f7d-a6d46bfaf2f8"
      },
      "execution_count": 6,
      "outputs": [
        {
          "output_type": "stream",
          "name": "stdout",
          "text": [
            "Original Random Vector:\n",
            " [14.96223913 19.78363875 16.16059158  1.19534749  9.57627263  4.60751503\n",
            " 15.8248341  15.20785251 13.17458167 13.39997966 17.08968673 13.03298829\n",
            " 17.94194731  1.62820864 12.11857698 16.01850359 15.85006242 15.08553191\n",
            " 18.19973292  8.86359358]\n"
          ]
        }
      ]
    },
    {
      "cell_type": "code",
      "source": [
        "# Reshape the array to 4 by 5 (4 rows and 5 columns)\n",
        "reshaped_array = random_vector.reshape(4, 5)\n",
        "\n",
        "print(reshaped_array)"
      ],
      "metadata": {
        "colab": {
          "base_uri": "https://localhost:8080/"
        },
        "id": "16ZJuYvcNcTS",
        "outputId": "a3cdddc7-fa10-47b1-e944-777bee6d01d0"
      },
      "execution_count": 7,
      "outputs": [
        {
          "output_type": "stream",
          "name": "stdout",
          "text": [
            "[[14.96223913 19.78363875 16.16059158  1.19534749  9.57627263]\n",
            " [ 4.60751503 15.8248341  15.20785251 13.17458167 13.39997966]\n",
            " [17.08968673 13.03298829 17.94194731  1.62820864 12.11857698]\n",
            " [16.01850359 15.85006242 15.08553191 18.19973292  8.86359358]]\n"
          ]
        }
      ]
    },
    {
      "cell_type": "code",
      "source": [
        "# Replace the max in each row by 0 (axis=1)\n",
        "reshaped_array[np.arange(4), reshaped_array.argmax(axis=1)] = 0\n",
        "\n",
        "print(\"Reshaped Array:\\n\", reshaped_array)"
      ],
      "metadata": {
        "colab": {
          "base_uri": "https://localhost:8080/"
        },
        "id": "PWYPSVK5NYeA",
        "outputId": "2045b520-99a3-43f2-af13-a479ae1eb5ec"
      },
      "execution_count": 8,
      "outputs": [
        {
          "output_type": "stream",
          "name": "stdout",
          "text": [
            "Reshaped Array:\n",
            " [[14.96223913  0.         16.16059158  1.19534749  9.57627263]\n",
            " [ 4.60751503  0.         15.20785251 13.17458167 13.39997966]\n",
            " [17.08968673 13.03298829  0.          1.62820864 12.11857698]\n",
            " [16.01850359 15.85006242 15.08553191  0.          8.86359358]]\n"
          ]
        }
      ]
    }
  ]
}